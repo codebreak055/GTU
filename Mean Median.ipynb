{
 "cells": [
  {
   "cell_type": "code",
   "execution_count": 1,
   "id": "bc958e1a",
   "metadata": {},
   "outputs": [],
   "source": [
    "import numpy as np"
   ]
  },
  {
   "cell_type": "code",
   "execution_count": 2,
   "id": "cfe7e78f",
   "metadata": {},
   "outputs": [],
   "source": [
    "cric_data=np.loadtxt(\"untitled.tsv\",skiprows=1)"
   ]
  },
  {
   "cell_type": "code",
   "execution_count": 3,
   "id": "f82dbe2b",
   "metadata": {},
   "outputs": [],
   "source": [
    "def mm(i):\n",
    "    return np.mean(cric_data[:,i]),np.median(cric_data[:,i])"
   ]
  },
  {
   "cell_type": "code",
   "execution_count": 4,
   "id": "889cf5a7",
   "metadata": {},
   "outputs": [
    {
     "name": "stdout",
     "output_type": "stream",
     "text": [
      "1 for sachin\n",
      " 2 for David\n",
      " 3 For India \n",
      "Your Response: 1\n"
     ]
    }
   ],
   "source": [
    "player=input(\"1 for sachin\\n 2 for David\\n 3 For India \\nYour Response: \")"
   ]
  },
  {
   "cell_type": "code",
   "execution_count": 5,
   "id": "85540edb",
   "metadata": {},
   "outputs": [],
   "source": [
    "playerno=int(player)"
   ]
  },
  {
   "cell_type": "code",
   "execution_count": 6,
   "id": "72ca88e7",
   "metadata": {},
   "outputs": [
    {
     "data": {
      "text/plain": [
       "(63.6, 71.0)"
      ]
     },
     "execution_count": 6,
     "metadata": {},
     "output_type": "execute_result"
    }
   ],
   "source": [
    "mm(playerno)"
   ]
  },
  {
   "cell_type": "code",
   "execution_count": null,
   "id": "aa05d80e",
   "metadata": {},
   "outputs": [],
   "source": []
  }
 ],
 "metadata": {
  "kernelspec": {
   "display_name": "Python 3 (ipykernel)",
   "language": "python",
   "name": "python3"
  },
  "language_info": {
   "codemirror_mode": {
    "name": "ipython",
    "version": 3
   },
   "file_extension": ".py",
   "mimetype": "text/x-python",
   "name": "python",
   "nbconvert_exporter": "python",
   "pygments_lexer": "ipython3",
   "version": "3.9.13"
  }
 },
 "nbformat": 4,
 "nbformat_minor": 5
}
